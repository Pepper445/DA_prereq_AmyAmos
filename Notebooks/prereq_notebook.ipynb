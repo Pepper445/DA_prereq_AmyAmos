{
 "cells": [
  {
   "cell_type": "code",
   "execution_count": 2,
   "id": "01661c1e",
   "metadata": {},
   "outputs": [
    {
     "name": "stdout",
     "output_type": "stream",
     "text": [
      "Hello Code: You!\n"
     ]
    }
   ],
   "source": [
    "print(\"Hello Code: You!\")"
   ]
  },
  {
   "cell_type": "markdown",
   "id": "d6201497",
   "metadata": {},
   "source": [
    "I am excited to learn about possible careers with data analytics. I am interested in Salesforce, and I have a lot of experience with policy and procedure writing for business that want to accept clients with Kentucky State medicaid waivers. I'm hoping to use some of these skills to grow a career. I'm a single mom of six kids, their father left, so I am starting over later in life. Having no career age age 39 is not fun, and I am hoping to change my future."
   ]
  }
 ],
 "metadata": {
  "kernelspec": {
   "display_name": "Python 3",
   "language": "python",
   "name": "python3"
  },
  "language_info": {
   "codemirror_mode": {
    "name": "ipython",
    "version": 3
   },
   "file_extension": ".py",
   "mimetype": "text/x-python",
   "name": "python",
   "nbconvert_exporter": "python",
   "pygments_lexer": "ipython3",
   "version": "3.13.5"
  }
 },
 "nbformat": 4,
 "nbformat_minor": 5
}
